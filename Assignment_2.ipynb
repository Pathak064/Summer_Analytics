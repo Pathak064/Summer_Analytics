{
 "cells": [
  {
   "cell_type": "code",
   "execution_count": 1,
   "metadata": {},
   "outputs": [],
   "source": [
    "import pandas as pd\n",
    "import numpy as np\n",
    "import matplotlib.pyplot as plt\n",
    "%matplotlib inline\n",
    "from datetime import datetime\n",
    "import seaborn as sns"
   ]
  },
  {
   "cell_type": "code",
   "execution_count": 2,
   "metadata": {},
   "outputs": [],
   "source": [
    "d_parser=lambda x:pd.datetime.strptime(x,'%m/%d/%y %H:%M')\n",
    "df=pd.read_csv('E:/Download/UPX/Summer_Analytics/2/Chicago_Crime_Detective.csv',dtype='unicode',index_col='ID',parse_dates=['Date'],date_parser=d_parser )\n",
    "#,index_col='ID'"
   ]
  },
  {
   "cell_type": "code",
   "execution_count": 3,
   "metadata": {},
   "outputs": [],
   "source": [
    "#drop the unnamed column\n",
    "df.drop(['Unnamed: 0'],axis=1,inplace=True)"
   ]
  },
  {
   "cell_type": "code",
   "execution_count": 4,
   "metadata": {},
   "outputs": [
    {
     "data": {
      "text/html": [
       "<div>\n",
       "<style scoped>\n",
       "    .dataframe tbody tr th:only-of-type {\n",
       "        vertical-align: middle;\n",
       "    }\n",
       "\n",
       "    .dataframe tbody tr th {\n",
       "        vertical-align: top;\n",
       "    }\n",
       "\n",
       "    .dataframe thead th {\n",
       "        text-align: right;\n",
       "    }\n",
       "</style>\n",
       "<table border=\"1\" class=\"dataframe\">\n",
       "  <thead>\n",
       "    <tr style=\"text-align: right;\">\n",
       "      <th></th>\n",
       "      <th>Date</th>\n",
       "      <th>LocationDescription</th>\n",
       "      <th>Arrest</th>\n",
       "      <th>Domestic</th>\n",
       "      <th>Beat</th>\n",
       "      <th>District</th>\n",
       "      <th>CommunityArea</th>\n",
       "      <th>Year</th>\n",
       "    </tr>\n",
       "    <tr>\n",
       "      <th>ID</th>\n",
       "      <th></th>\n",
       "      <th></th>\n",
       "      <th></th>\n",
       "      <th></th>\n",
       "      <th></th>\n",
       "      <th></th>\n",
       "      <th></th>\n",
       "      <th></th>\n",
       "    </tr>\n",
       "  </thead>\n",
       "  <tbody>\n",
       "    <tr>\n",
       "      <td>8951354</td>\n",
       "      <td>2012-12-31 23:15:00</td>\n",
       "      <td>STREET</td>\n",
       "      <td>False</td>\n",
       "      <td>False</td>\n",
       "      <td>623</td>\n",
       "      <td>6</td>\n",
       "      <td>69</td>\n",
       "      <td>2012</td>\n",
       "    </tr>\n",
       "    <tr>\n",
       "      <td>8951141</td>\n",
       "      <td>2012-12-31 22:00:00</td>\n",
       "      <td>STREET</td>\n",
       "      <td>False</td>\n",
       "      <td>False</td>\n",
       "      <td>1213</td>\n",
       "      <td>12</td>\n",
       "      <td>24</td>\n",
       "      <td>2012</td>\n",
       "    </tr>\n",
       "    <tr>\n",
       "      <td>8952745</td>\n",
       "      <td>2012-12-31 22:00:00</td>\n",
       "      <td>RESIDENTIAL YARD (FRONT/BACK)</td>\n",
       "      <td>False</td>\n",
       "      <td>False</td>\n",
       "      <td>1622</td>\n",
       "      <td>16</td>\n",
       "      <td>11</td>\n",
       "      <td>2012</td>\n",
       "    </tr>\n",
       "    <tr>\n",
       "      <td>8952223</td>\n",
       "      <td>2012-12-31 22:00:00</td>\n",
       "      <td>STREET</td>\n",
       "      <td>False</td>\n",
       "      <td>False</td>\n",
       "      <td>724</td>\n",
       "      <td>7</td>\n",
       "      <td>67</td>\n",
       "      <td>2012</td>\n",
       "    </tr>\n",
       "    <tr>\n",
       "      <td>8951608</td>\n",
       "      <td>2012-12-31 21:30:00</td>\n",
       "      <td>STREET</td>\n",
       "      <td>False</td>\n",
       "      <td>False</td>\n",
       "      <td>211</td>\n",
       "      <td>2</td>\n",
       "      <td>35</td>\n",
       "      <td>2012</td>\n",
       "    </tr>\n",
       "  </tbody>\n",
       "</table>\n",
       "</div>"
      ],
      "text/plain": [
       "                       Date            LocationDescription Arrest Domestic  \\\n",
       "ID                                                                           \n",
       "8951354 2012-12-31 23:15:00                         STREET  False    False   \n",
       "8951141 2012-12-31 22:00:00                         STREET  False    False   \n",
       "8952745 2012-12-31 22:00:00  RESIDENTIAL YARD (FRONT/BACK)  False    False   \n",
       "8952223 2012-12-31 22:00:00                         STREET  False    False   \n",
       "8951608 2012-12-31 21:30:00                         STREET  False    False   \n",
       "\n",
       "         Beat District CommunityArea  Year  \n",
       "ID                                          \n",
       "8951354   623        6            69  2012  \n",
       "8951141  1213       12            24  2012  \n",
       "8952745  1622       16            11  2012  \n",
       "8952223   724        7            67  2012  \n",
       "8951608   211        2            35  2012  "
      ]
     },
     "execution_count": 4,
     "metadata": {},
     "output_type": "execute_result"
    }
   ],
   "source": [
    "df.head()"
   ]
  },
  {
   "cell_type": "code",
   "execution_count": 5,
   "metadata": {},
   "outputs": [
    {
     "data": {
      "text/plain": [
       "Date                   datetime64[ns]\n",
       "LocationDescription            object\n",
       "Arrest                         object\n",
       "Domestic                       object\n",
       "Beat                           object\n",
       "District                       object\n",
       "CommunityArea                  object\n",
       "Year                           object\n",
       "dtype: object"
      ]
     },
     "execution_count": 5,
     "metadata": {},
     "output_type": "execute_result"
    }
   ],
   "source": [
    "df.dtypes"
   ]
  },
  {
   "cell_type": "code",
   "execution_count": 6,
   "metadata": {},
   "outputs": [
    {
     "data": {
      "text/plain": [
       "(191641, 8)"
      ]
     },
     "execution_count": 6,
     "metadata": {},
     "output_type": "execute_result"
    }
   ],
   "source": [
    "df.shape"
   ]
  },
  {
   "cell_type": "code",
   "execution_count": 7,
   "metadata": {},
   "outputs": [
    {
     "data": {
      "text/plain": [
       "Date                       0\n",
       "LocationDescription        0\n",
       "Arrest                     0\n",
       "Domestic                   0\n",
       "Beat                       0\n",
       "District               43052\n",
       "CommunityArea          24603\n",
       "Year                       0\n",
       "dtype: int64"
      ]
     },
     "execution_count": 7,
     "metadata": {},
     "output_type": "execute_result"
    }
   ],
   "source": [
    "df.isnull().sum()"
   ]
  },
  {
   "cell_type": "code",
   "execution_count": 8,
   "metadata": {},
   "outputs": [],
   "source": [
    "#df['Date'] =pd.to_datetime (df['Date']) #command can not parse the date\n",
    "#df['Date'] = pd.to_datetime(df['Date'],format ='%m/%d/%y %H:%M')\n",
    "#df['Date']"
   ]
  },
  {
   "cell_type": "code",
   "execution_count": 9,
   "metadata": {},
   "outputs": [],
   "source": [
    "#df.loc[0,'Date'].day_name()\n",
    "#df['Date'].dt.day_name().value_counts().sort_values()"
   ]
  },
  {
   "cell_type": "markdown",
   "metadata": {},
   "source": [
    "# 1.\n",
    "What is the Month and Year of the median date in our dataset?\n"
   ]
  },
  {
   "cell_type": "code",
   "execution_count": 98,
   "metadata": {},
   "outputs": [
    {
     "data": {
      "text/plain": [
       "Timestamp('2006-05-21 12:30:00')"
      ]
     },
     "execution_count": 98,
     "metadata": {},
     "output_type": "execute_result"
    }
   ],
   "source": [
    "df['Date'].astype('datetime64[ns]').quantile(.5)"
   ]
  },
  {
   "cell_type": "markdown",
   "metadata": {},
   "source": [
    "# 2.\n",
    "In which month did the lowest motor vehicle thefts occur?"
   ]
  },
  {
   "cell_type": "code",
   "execution_count": 100,
   "metadata": {},
   "outputs": [
    {
     "data": {
      "text/plain": [
       "Date\n",
       "February     13511\n",
       "April        15280\n",
       "March        15758\n",
       "June         16002\n",
       "May          16035\n",
       "January      16047\n",
       "September    16060\n",
       "November     16063\n",
       "December     16426\n",
       "August       16572\n",
       "July         16801\n",
       "October      17086\n",
       "Name: Arrest, dtype: int64"
      ]
     },
     "execution_count": 100,
     "metadata": {},
     "output_type": "execute_result"
    }
   ],
   "source": [
    "\n",
    "\n",
    "#df.groupby(pd.Grouper(key='Date', freq='M')).count()\n",
    "#df.groupby(df['Date'].dt.strftime('%B'))['Year'].count().sort_values()\n",
    "\n",
    "df.groupby(df['Date'].dt.strftime('%B'))['Arrest'].count().sort_values(ascending=True)\n",
    "\n",
    "#df.groupby(df['Date'].dt.strftime('%B'))['Arrest'].count().sort_values(ascending=False).plot(kind='bar')"
   ]
  },
  {
   "cell_type": "markdown",
   "metadata": {},
   "source": [
    "# 3. \n",
    "On which weekday did most motor vehicle thefts occur? *\n"
   ]
  },
  {
   "cell_type": "code",
   "execution_count": 12,
   "metadata": {},
   "outputs": [
    {
     "data": {
      "text/plain": [
       "Sunday       26316\n",
       "Tuesday      26791\n",
       "Saturday     27118\n",
       "Thursday     27319\n",
       "Monday       27397\n",
       "Wednesday    27416\n",
       "Friday       29284\n",
       "Name: Date, dtype: int64"
      ]
     },
     "execution_count": 12,
     "metadata": {},
     "output_type": "execute_result"
    }
   ],
   "source": [
    "#df.loc[0,'Date'].day_name()\n",
    "#df['dayofweek']=df['Date'].dt.day_name() #find day of the week of each day?\n",
    "\n",
    "df['Date'].dt.day_name().value_counts().sort_values()"
   ]
  },
  {
   "cell_type": "markdown",
   "metadata": {},
   "source": [
    "# 4.\n",
    "Each observation in the dataset represents a motor vehicle theft, \n",
    "and the Arrest variable indicates whether an arrest was later made for this theft. \n",
    "Which month has the largest number of motor vehicle thefts for which an arrest was made? *\n"
   ]
  },
  {
   "cell_type": "code",
   "execution_count": 13,
   "metadata": {},
   "outputs": [
    {
     "data": {
      "text/plain": [
       "Date       Arrest\n",
       "May        False     0.925974\n",
       "June       False     0.923135\n",
       "September  False     0.922291\n",
       "November   False     0.921808\n",
       "October    False     0.921456\n",
       "July       False     0.921195\n",
       "August     False     0.919804\n",
       "April      False     0.918063\n",
       "March      False     0.917629\n",
       "December   False     0.914952\n",
       "January    False     0.910575\n",
       "February   False     0.908371\n",
       "           True      0.091629\n",
       "January    True      0.089425\n",
       "December   True      0.085048\n",
       "March      True      0.082371\n",
       "April      True      0.081937\n",
       "August     True      0.080196\n",
       "July       True      0.078805\n",
       "October    True      0.078544\n",
       "November   True      0.078192\n",
       "September  True      0.077709\n",
       "June       True      0.076865\n",
       "May        True      0.074026\n",
       "Name: Arrest, dtype: float64"
      ]
     },
     "execution_count": 13,
     "metadata": {},
     "output_type": "execute_result"
    }
   ],
   "source": [
    "#week_df = df.groupby(df['Date'].dt.weekday_name)\n",
    "\n",
    "\n",
    "#df.groupby(df['Date'].dt.strftime('%a'))['Arrest'].value_counts().sort_values() -- day wise count\n",
    "#df.groupby(df['Date'].dt.strftime('%Y'))['Arrest'].value_counts().sort_values(ascending=False)   year wise\n",
    "\n",
    "df.groupby(df['Date'].dt.strftime('%B'))['Arrest'].value_counts(normalize=True).sort_values(ascending=False)\n",
    "\n"
   ]
  },
  {
   "cell_type": "code",
   "execution_count": 14,
   "metadata": {},
   "outputs": [
    {
     "data": {
      "text/plain": [
       "2001    20669\n",
       "2002    18753\n",
       "2004    16862\n",
       "2003    16657\n",
       "2005    16484\n",
       "2006    16098\n",
       "2011    15637\n",
       "2010    15497\n",
       "2008    14445\n",
       "2007    14280\n",
       "2012    14092\n",
       "2009    12167\n",
       "Name: Year, dtype: int64"
      ]
     },
     "execution_count": 14,
     "metadata": {},
     "output_type": "execute_result"
    }
   ],
   "source": [
    "df['Year'].value_counts()"
   ]
  },
  {
   "cell_type": "code",
   "execution_count": 15,
   "metadata": {},
   "outputs": [
    {
     "data": {
      "image/png": "[encoded data removed]",
      "text/plain": [
       "<Figure size 432x288 with 1 Axes>"
      ]
     },
     "metadata": {
      "needs_background": "light"
     },
     "output_type": "display_data"
    }
   ],
   "source": [
    "year_grp=df.groupby(['Year'])\n",
    "\n",
    "x=df['Year'].sort_values(ascending=True)\n",
    "\n",
    "plt.hist(x, edgecolor='black',bins=23)\n",
    "\n",
    "#plt.legend()\n",
    "\n",
    "plt.title('year')\n",
    "plt.xlabel('a')\n",
    "plt.ylabel('total')\n",
    "plt.grid()\n",
    "plt.tight_layout()\n",
    "\n",
    "plt.show()"
   ]
  },
  {
   "cell_type": "markdown",
   "metadata": {},
   "source": [
    "# 6.\n",
    "Crimes for which more arrests were made are in the first half of the time period or the second half of the time period? *\n",
    "(Note that the time period is from 2001 to 2012, so the middle of the time period is the beginning of 2007.)"
   ]
  },
  {
   "cell_type": "code",
   "execution_count": 16,
   "metadata": {},
   "outputs": [],
   "source": [
    "year_grp=df.groupby(['Year'])"
   ]
  },
  {
   "cell_type": "code",
   "execution_count": 17,
   "metadata": {},
   "outputs": [
    {
     "data": {
      "text/plain": [
       "Year\n",
       "2001    2152\n",
       "2002    2115\n",
       "2003    1798\n",
       "2004    1693\n",
       "2005    1528\n",
       "2006    1302\n",
       "2007    1212\n",
       "2008    1020\n",
       "2009     840\n",
       "2010     701\n",
       "2011     625\n",
       "2012     550\n",
       "Name: Year, dtype: int64"
      ]
     },
     "execution_count": 17,
     "metadata": {},
     "output_type": "execute_result"
    }
   ],
   "source": [
    "arrest_grp=df.groupby('Arrest')\n",
    "arrest_grp['Year'].value_counts().loc['True']\n"
   ]
  },
  {
   "cell_type": "code",
   "execution_count": 18,
   "metadata": {},
   "outputs": [],
   "source": [
    "#year_grp['Arrest'].value_counts().sort_values()"
   ]
  },
  {
   "cell_type": "markdown",
   "metadata": {},
   "source": [
    "# 7.\n",
    "For what proportion of motor vehicle thefts in 2001 was an arrest made?"
   ]
  },
  {
   "cell_type": "code",
   "execution_count": 19,
   "metadata": {},
   "outputs": [
    {
     "data": {
      "text/plain": [
       "Date  Arrest\n",
       "2012  False     0.960971\n",
       "2011  False     0.960031\n",
       "2010  False     0.954765\n",
       "2009  False     0.930961\n",
       "2008  False     0.929387\n",
       "2006  False     0.919120\n",
       "2007  False     0.915126\n",
       "2005  False     0.907304\n",
       "2004  False     0.899597\n",
       "2001  False     0.895883\n",
       "2003  False     0.892057\n",
       "2002  False     0.887218\n",
       "      True      0.112782\n",
       "2003  True      0.107943\n",
       "2001  True      0.104117\n",
       "2004  True      0.100403\n",
       "2005  True      0.092696\n",
       "2007  True      0.084874\n",
       "2006  True      0.080880\n",
       "2008  True      0.070613\n",
       "2009  True      0.069039\n",
       "2010  True      0.045235\n",
       "2011  True      0.039969\n",
       "2012  True      0.039029\n",
       "Name: Arrest, dtype: float64"
      ]
     },
     "execution_count": 19,
     "metadata": {},
     "output_type": "execute_result"
    }
   ],
   "source": [
    "df.groupby(df['Date'].dt.strftime('%Y'))['Arrest'].value_counts(normalize=True).sort_values(ascending=False)"
   ]
  },
  {
   "cell_type": "markdown",
   "metadata": {},
   "source": [
    "# 8.\n",
    "For what proportion of motor vehicle thefts in 2007 was an arrest made? (round your answer to 2 decimal places)"
   ]
  },
  {
   "cell_type": "code",
   "execution_count": 20,
   "metadata": {},
   "outputs": [],
   "source": [
    "#same as question 6 \n",
    "# 2007  True      0.084874"
   ]
  },
  {
   "cell_type": "markdown",
   "metadata": {},
   "source": [
    "# 9.\n",
    "Which locations are the top five locations for motor vehicle thefts, excluding the \"Other\" category? "
   ]
  },
  {
   "cell_type": "code",
   "execution_count": 21,
   "metadata": {},
   "outputs": [
    {
     "data": {
      "text/plain": [
       "STREET                            156564\n",
       "PARKING LOT/GARAGE(NON.RESID.)     14852\n",
       "OTHER                               4573\n",
       "ALLEY                               2308\n",
       "GAS STATION                         2111\n",
       "DRIVEWAY - RESIDENTIAL              1675\n",
       "Name: LocationDescription, dtype: int64"
      ]
     },
     "execution_count": 21,
     "metadata": {},
     "output_type": "execute_result"
    }
   ],
   "source": [
    "locality=df['LocationDescription'].value_counts().sort_values(ascending=False)\n",
    "locality.head(6)"
   ]
  },
  {
   "cell_type": "markdown",
   "metadata": {},
   "source": [
    "# 10.\n",
    "Create a subset of your data, only taking observations for which the theft happened in one of \n",
    "these five locations, and call this new data set \"Top5\". How many observations are in Top5?"
   ]
  },
  {
   "cell_type": "code",
   "execution_count": 22,
   "metadata": {},
   "outputs": [
    {
     "data": {
      "text/plain": [
       "Date                   177510\n",
       "LocationDescription    177510\n",
       "Arrest                 177510\n",
       "Domestic               177510\n",
       "Beat                   177510\n",
       "District               137526\n",
       "CommunityArea          154663\n",
       "Year                   177510\n",
       "dtype: int64"
      ]
     },
     "execution_count": 22,
     "metadata": {},
     "output_type": "execute_result"
    }
   ],
   "source": [
    "local=df.groupby('LocationDescription')\n",
    "#loc.get_group('STREET','ALLEY')\n",
    "Top5=pd.concat([group for (name, group) in local if name in \n",
    "                ['STREET','PARKING LOT/GARAGE(NON.RESID.)','ALLEY','GAS STATION','DRIVEWAY - RESIDENTIAL']])\n",
    "Top5.count()"
   ]
  },
  {
   "cell_type": "markdown",
   "metadata": {},
   "source": [
    "# 11.\n",
    "On which day of the week do the most motor vehicle thefts at gas stations happen? *"
   ]
  },
  {
   "cell_type": "code",
   "execution_count": 97,
   "metadata": {},
   "outputs": [
    {
     "data": {
      "text/plain": [
       "Date                  \n",
       "Saturday   GAS STATION    338\n",
       "Sunday     GAS STATION    336\n",
       "Friday     GAS STATION    332\n",
       "Thursday   GAS STATION    282\n",
       "Monday     GAS STATION    280\n",
       "Wednesday  GAS STATION    273\n",
       "Tuesday    GAS STATION    270\n",
       "Name: LocationDescription, dtype: int64"
      ]
     },
     "execution_count": 97,
     "metadata": {},
     "output_type": "execute_result"
    }
   ],
   "source": [
    "days_group=Top5.groupby(Top5['Date'].dt.strftime('%A'))\n",
    "days_group['LocationDescription'].apply(lambda x: \n",
    "                               x.where(Top5['LocationDescription']=='GAS STATION').value_counts()).sort_values(ascending=False)"
   ]
  },
  {
   "cell_type": "code",
   "execution_count": 23,
   "metadata": {},
   "outputs": [],
   "source": [
    "#df.groupby(df['Date'].dt.strftime('%a'))['Arrest'].value_counts().sort_values()\n",
    "#Top5.groupby(Top5['Date'].dt.strftime('%A'))['LocationDescription'].value_count().sort_values()"
   ]
  },
  {
   "cell_type": "code",
   "execution_count": 83,
   "metadata": {},
   "outputs": [],
   "source": [
    "f=Top5.groupby(Top5['Date'].dt.strftime('%A'))\n",
    "#f['LocationDescription'].value_counts().sort_values()\n",
    " "
   ]
  },
  {
   "cell_type": "code",
   "execution_count": 25,
   "metadata": {},
   "outputs": [],
   "source": [
    "#df['Date'].dt.day_name().value_counts().sort_values()\n",
    "b=Top5['Date'].dt.day_name()\n",
    "a=Top5.groupby('LocationDescription')\n",
    "#a['Date'].loc['GAS STATION ']\n"
   ]
  },
  {
   "cell_type": "code",
   "execution_count": null,
   "metadata": {},
   "outputs": [],
   "source": []
  }
 ],
 "metadata": {
  "kernelspec": {
   "display_name": "Python 3",
   "language": "python",
   "name": "python3"
  },
  "language_info": {
   "codemirror_mode": {
    "name": "ipython",
    "version": 3
   },
   "file_extension": ".py",
   "mimetype": "text/x-python",
   "name": "python",
   "nbconvert_exporter": "python",
   "pygments_lexer": "ipython3",
   "version": "3.7.4"
  }
 },
 "nbformat": 4,
 "nbformat_minor": 2
}
